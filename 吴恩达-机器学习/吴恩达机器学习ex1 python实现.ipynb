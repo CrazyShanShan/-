{
 "cells": [
  {
   "cell_type": "markdown",
   "metadata": {},
   "source": [
    "本项目包含吴恩达机器学习的ex1的python实现，参考url: https://www.heywhale.com/mw/project/5da16a37037db3002d441810\n",
    "\n",
    "主要是为了对机器学习算法进行一个小练习。\n",
    "\n",
    "# ex1: 线性回归\n",
    "\n",
    "代码使用的是 numpy实现，我争取使用pytorch进行实现"
   ]
  },
  {
   "cell_type": "code",
   "execution_count": 556,
   "metadata": {},
   "outputs": [],
   "source": [
    "import numpy as np\n",
    "import pandas as pd \n",
    "import matplotlib.pyplot as plt\n",
    "from numpy.linalg import inv\n",
    "import torch "
   ]
  },
  {
   "cell_type": "markdown",
   "metadata": {},
   "source": [
    "# 1. 简单练习\n",
    "\n",
    "输出一个5*5的单位矩阵\n"
   ]
  },
  {
   "cell_type": "code",
   "execution_count": 557,
   "metadata": {},
   "outputs": [
    {
     "name": "stdout",
     "output_type": "stream",
     "text": [
      "[[1. 0. 0. 0. 0.]\n",
      " [0. 1. 0. 0. 0.]\n",
      " [0. 0. 1. 0. 0.]\n",
      " [0. 0. 0. 1. 0.]\n",
      " [0. 0. 0. 0. 1.]]\n",
      "tensor([[1., 0., 0., 0., 0.],\n",
      "        [0., 1., 0., 0., 0.],\n",
      "        [0., 0., 1., 0., 0.],\n",
      "        [0., 0., 0., 1., 0.],\n",
      "        [0., 0., 0., 0., 1.]])\n"
     ]
    }
   ],
   "source": [
    "A = np.eye(5)\n",
    "print(A)\n",
    "B = torch.eye(5)\n",
    "print(B)"
   ]
  },
  {
   "cell_type": "markdown",
   "metadata": {},
   "source": [
    "# 2 单变量的线性回归\n",
    "整个2的部门需要根据城市人口数量，预测开小吃店的利润\n",
    "数据在ex1data1.txt里面，第一列是城市人口数量，第二列是该城市小吃店利润。\n",
    "\n"
   ]
  },
  {
   "cell_type": "markdown",
   "metadata": {},
   "source": [
    "## 2.1 Plotting the Data\n",
    "读入数据，然后展示数据"
   ]
  },
  {
   "cell_type": "code",
   "execution_count": 558,
   "metadata": {},
   "outputs": [
    {
     "data": {
      "text/html": [
       "<div>\n",
       "<style scoped>\n",
       "    .dataframe tbody tr th:only-of-type {\n",
       "        vertical-align: middle;\n",
       "    }\n",
       "\n",
       "    .dataframe tbody tr th {\n",
       "        vertical-align: top;\n",
       "    }\n",
       "\n",
       "    .dataframe thead th {\n",
       "        text-align: right;\n",
       "    }\n",
       "</style>\n",
       "<table border=\"1\" class=\"dataframe\">\n",
       "  <thead>\n",
       "    <tr style=\"text-align: right;\">\n",
       "      <th></th>\n",
       "      <th>Population</th>\n",
       "      <th>Profit</th>\n",
       "    </tr>\n",
       "  </thead>\n",
       "  <tbody>\n",
       "    <tr>\n",
       "      <th>0</th>\n",
       "      <td>6.1101</td>\n",
       "      <td>17.5920</td>\n",
       "    </tr>\n",
       "    <tr>\n",
       "      <th>1</th>\n",
       "      <td>5.5277</td>\n",
       "      <td>9.1302</td>\n",
       "    </tr>\n",
       "    <tr>\n",
       "      <th>2</th>\n",
       "      <td>8.5186</td>\n",
       "      <td>13.6620</td>\n",
       "    </tr>\n",
       "    <tr>\n",
       "      <th>3</th>\n",
       "      <td>7.0032</td>\n",
       "      <td>11.8540</td>\n",
       "    </tr>\n",
       "    <tr>\n",
       "      <th>4</th>\n",
       "      <td>5.8598</td>\n",
       "      <td>6.8233</td>\n",
       "    </tr>\n",
       "  </tbody>\n",
       "</table>\n",
       "</div>"
      ],
      "text/plain": [
       "   Population   Profit\n",
       "0      6.1101  17.5920\n",
       "1      5.5277   9.1302\n",
       "2      8.5186  13.6620\n",
       "3      7.0032  11.8540\n",
       "4      5.8598   6.8233"
      ]
     },
     "execution_count": 558,
     "metadata": {},
     "output_type": "execute_result"
    }
   ],
   "source": [
    "path = './Andrew-NG-Meachine-Learning/machine-learning-ex1/ex1/ex1data1.txt'\n",
    "data = pd.read_csv(path, header=None, names=['Population', 'Profit'])\n",
    "data.head()"
   ]
  },
  {
   "cell_type": "code",
   "execution_count": 559,
   "metadata": {},
   "outputs": [
    {
     "data": {
      "text/plain": [
       "Text(0.5, 1.0, 'test')"
      ]
     },
     "execution_count": 559,
     "metadata": {},
     "output_type": "execute_result"
    },
    {
     "data": {
      "image/png": "[encoded data removed]",
      "text/plain": [
       "<Figure size 576x576 with 1 Axes>"
      ]
     },
     "metadata": {
      "needs_background": "light"
     },
     "output_type": "display_data"
    }
   ],
   "source": [
    "fig, axs = plt.subplots(figsize=(8, 8))\n",
    "data.plot.scatter(x='Population', y='Profit', alpha = 0.5, ax = axs)\n",
    "x_label = [i for i in data['Population']]\n",
    "axs.grid()\n",
    "axs.set_title(\"test\")"
   ]
  },
  {
   "cell_type": "code",
   "execution_count": 560,
   "metadata": {},
   "outputs": [
    {
     "name": "stdout",
     "output_type": "stream",
     "text": [
      "<class 'pandas.core.frame.DataFrame'>\n",
      "RangeIndex: 97 entries, 0 to 96\n",
      "Data columns (total 2 columns):\n",
      " #   Column      Non-Null Count  Dtype  \n",
      "---  ------      --------------  -----  \n",
      " 0   Population  97 non-null     float64\n",
      " 1   Profit      97 non-null     float64\n",
      "dtypes: float64(2)\n",
      "memory usage: 1.6 KB\n"
     ]
    }
   ],
   "source": [
    "data.info()"
   ]
  },
  {
   "cell_type": "markdown",
   "metadata": {},
   "source": [
    "## 2.2 梯度下降\n",
    "### 2.2.1 线性回归损失函数公式\n",
    "$$\n",
    "    (x^{(i)}, y^{(i)}) = (x_1^{(i)}, x_2^{(i)},..., x_n^{(i)}, y^{(i)})\n",
    "$$\n",
    "$$\n",
    "    h_\\theta(x^{(i)}) = \\theta_0 + \\theta_1x_1^{(i)} + \\theta_2x_2^{(i)} + ... + \\theta_nx_n^{(i)} = \\theta^Tx^{(i)}\n",
    "$$\n",
    "一共有M组样例\n",
    "$$\n",
    "    J(\\theta) = \\frac{1}{2m}\\sum_{i=1}^m\\left(h_\\theta(x^{(i)}) - y^{(i)}\\right)^2\n",
    "$$\n",
    "对该公式进行向量化\n",
    "$$\n",
    "    X * \\theta = \\left[\\begin{matrix}\n",
    "        x_0^{(1)} & x_1^{(1)} & x_2^{(1)} &... & x_n^{(1)} \\\\ \n",
    "        x_0^{(2)} & x_1^{(2)} & x_2^{(2)} &... & x_n^{(2)}      \\\\\n",
    "              \\\\\n",
    "        x_0^{(m)} & x_1^{(m)} & x_2^{(m)} &... & x_n^{(m)} \\\\\n",
    "     \\end{matrix} \\right] * \n",
    "     \\left[\\begin{matrix}\n",
    "       \\theta_0              \\\\\n",
    "       \\theta_1                      \\\\\n",
    "        ...              \\\\\n",
    "       \\theta_n              \\\\\n",
    "      \\end{matrix} \\right] = \n",
    "      \\left[\\begin{matrix} \n",
    "        \\theta_0 + \\theta_1x_1^{(1)} + \\theta_2x_2^{(1)} + ... + \\theta_nx_n^{(1)} = \\theta^Tx^{(1)}   & \\\\\n",
    "        \\theta_0 + \\theta_1x_1^{(2)} + \\theta_2x_2^{(2)} + ... + \\theta_nx_n^{(2)} = \\theta^Tx^{(2)}   & \\\\\n",
    "        ... &  \\\\\n",
    "        \\theta_0 + \\theta_1x_1^{(m)} + \\theta_2x_2^{(m)} + ... + \\theta_nx_n^{(m)} = \\theta^Tx^{m)  \\\\\n",
    "        \n",
    "        \n",
    "        \n",
    "        }                              \\\\\n",
    "          \\end{matrix} \\right]\n",
    "$$\n",
    "\n",
    " "
   ]
  },
  {
   "cell_type": "code",
   "execution_count": 561,
   "metadata": {},
   "outputs": [
    {
     "name": "stdout",
     "output_type": "stream",
     "text": [
      "1675.0\n",
      "[546.33333333]\n"
     ]
    }
   ],
   "source": [
    "# 根据我上面推的公式 X.shape=(m, n), theta\n",
    "def computeCost(X, y, theta):\n",
    "    \"\"\" \n",
    "    X.shape = (m, n)\n",
    "    y.shape = (m , 1)\n",
    "    theta.shape = (n, 1)\n",
    "    \"\"\"\n",
    "    inner = np.power(np.dot(X, theta) - y, 2)\n",
    "    return np.sum(inner) / (2 * len(X))\n",
    "    \n",
    "print(computeCost(np.arange(1, 10).reshape(3, 3), np.arange(1, 4).reshape(3, 1), np.arange(1, 4)))\n",
    "\n",
    "def computeCost2(X, y, theta):\n",
    "    res = 0\n",
    "    for i in range(len(X)):\n",
    "        tmp =  np.dot(X[i], theta) - y[i] \n",
    "        res += tmp * tmp\n",
    "    return res / (2 * len(X))\n",
    "print(computeCost2(np.arange(1, 10).reshape(3, 3), np.arange(1, 4).reshape(3, 1), np.arange(1, 4)))"
   ]
  },
  {
   "cell_type": "markdown",
   "metadata": {},
   "source": [
    "### 2.2.2 实现\n",
    "数据前面已经读取完毕，我们要加入一列x,用于更新theta0，然后将theta数组初始化为0，学习率初始化为0.01，迭代次数为1500次"
   ]
  },
  {
   "cell_type": "code",
   "execution_count": 562,
   "metadata": {},
   "outputs": [
    {
     "data": {
      "text/html": [
       "<div>\n",
       "<style scoped>\n",
       "    .dataframe tbody tr th:only-of-type {\n",
       "        vertical-align: middle;\n",
       "    }\n",
       "\n",
       "    .dataframe tbody tr th {\n",
       "        vertical-align: top;\n",
       "    }\n",
       "\n",
       "    .dataframe thead th {\n",
       "        text-align: right;\n",
       "    }\n",
       "</style>\n",
       "<table border=\"1\" class=\"dataframe\">\n",
       "  <thead>\n",
       "    <tr style=\"text-align: right;\">\n",
       "      <th></th>\n",
       "      <th>Ones</th>\n",
       "      <th>Population</th>\n",
       "      <th>Profit</th>\n",
       "    </tr>\n",
       "  </thead>\n",
       "  <tbody>\n",
       "    <tr>\n",
       "      <th>0</th>\n",
       "      <td>1</td>\n",
       "      <td>6.1101</td>\n",
       "      <td>17.59200</td>\n",
       "    </tr>\n",
       "    <tr>\n",
       "      <th>1</th>\n",
       "      <td>1</td>\n",
       "      <td>5.5277</td>\n",
       "      <td>9.13020</td>\n",
       "    </tr>\n",
       "    <tr>\n",
       "      <th>2</th>\n",
       "      <td>1</td>\n",
       "      <td>8.5186</td>\n",
       "      <td>13.66200</td>\n",
       "    </tr>\n",
       "    <tr>\n",
       "      <th>3</th>\n",
       "      <td>1</td>\n",
       "      <td>7.0032</td>\n",
       "      <td>11.85400</td>\n",
       "    </tr>\n",
       "    <tr>\n",
       "      <th>4</th>\n",
       "      <td>1</td>\n",
       "      <td>5.8598</td>\n",
       "      <td>6.82330</td>\n",
       "    </tr>\n",
       "    <tr>\n",
       "      <th>...</th>\n",
       "      <td>...</td>\n",
       "      <td>...</td>\n",
       "      <td>...</td>\n",
       "    </tr>\n",
       "    <tr>\n",
       "      <th>92</th>\n",
       "      <td>1</td>\n",
       "      <td>5.8707</td>\n",
       "      <td>7.20290</td>\n",
       "    </tr>\n",
       "    <tr>\n",
       "      <th>93</th>\n",
       "      <td>1</td>\n",
       "      <td>5.3054</td>\n",
       "      <td>1.98690</td>\n",
       "    </tr>\n",
       "    <tr>\n",
       "      <th>94</th>\n",
       "      <td>1</td>\n",
       "      <td>8.2934</td>\n",
       "      <td>0.14454</td>\n",
       "    </tr>\n",
       "    <tr>\n",
       "      <th>95</th>\n",
       "      <td>1</td>\n",
       "      <td>13.3940</td>\n",
       "      <td>9.05510</td>\n",
       "    </tr>\n",
       "    <tr>\n",
       "      <th>96</th>\n",
       "      <td>1</td>\n",
       "      <td>5.4369</td>\n",
       "      <td>0.61705</td>\n",
       "    </tr>\n",
       "  </tbody>\n",
       "</table>\n",
       "<p>97 rows × 3 columns</p>\n",
       "</div>"
      ],
      "text/plain": [
       "    Ones  Population    Profit\n",
       "0      1      6.1101  17.59200\n",
       "1      1      5.5277   9.13020\n",
       "2      1      8.5186  13.66200\n",
       "3      1      7.0032  11.85400\n",
       "4      1      5.8598   6.82330\n",
       "..   ...         ...       ...\n",
       "92     1      5.8707   7.20290\n",
       "93     1      5.3054   1.98690\n",
       "94     1      8.2934   0.14454\n",
       "95     1     13.3940   9.05510\n",
       "96     1      5.4369   0.61705\n",
       "\n",
       "[97 rows x 3 columns]"
      ]
     },
     "execution_count": 562,
     "metadata": {},
     "output_type": "execute_result"
    }
   ],
   "source": [
    "data.insert(0, 'Ones', 1)\n",
    "data = data[['Ones', 'Population', 'Profit']]\n",
    "data"
   ]
  },
  {
   "cell_type": "markdown",
   "metadata": {},
   "source": [
    "现在初始化变量\n",
    "\n",
    "cols: 列\n",
    "\n",
    "X：前两列['Ones', 'Population']\n",
    "\n",
    "y: 最后一列['Profit']"
   ]
  },
  {
   "cell_type": "code",
   "execution_count": 563,
   "metadata": {},
   "outputs": [
    {
     "name": "stdout",
     "output_type": "stream",
     "text": [
      "   Ones  Population\n",
      "0     1      6.1101\n",
      "1     1      5.5277\n",
      "2     1      8.5186\n",
      "3     1      7.0032\n",
      "4     1      5.8598\n",
      "    Profit\n",
      "0  17.5920\n",
      "1   9.1302\n",
      "2  13.6620\n",
      "3  11.8540\n",
      "4   6.8233\n"
     ]
    }
   ],
   "source": [
    "cols = data.shape[1]\n",
    "X = data.iloc[:,:-1]\n",
    "print(X.head())\n",
    "y = data.iloc[:, -1:cols]\n",
    "print(y.head())"
   ]
  },
  {
   "cell_type": "markdown",
   "metadata": {},
   "source": [
    "Cost function is a numpy matrix\n",
    "\n",
    "So, we need transfer X and y, then we can use it.\n",
    "\n",
    "And, we should initialize theta"
   ]
  },
  {
   "cell_type": "code",
   "execution_count": 564,
   "metadata": {},
   "outputs": [
    {
     "data": {
      "text/plain": [
       "((97, 2), (2, 1), (97, 1))"
      ]
     },
     "execution_count": 564,
     "metadata": {},
     "output_type": "execute_result"
    }
   ],
   "source": [
    "X = np.array(X)\n",
    "y = np.array(y)\n",
    "theta = np.zeros(2).reshape(2, 1)\n",
    "X.shape, theta.shape, y.shape"
   ]
  },
  {
   "cell_type": "markdown",
   "metadata": {},
   "source": [
    "### 2.2.3 计算 $J(\\theta)$\n",
    "计算代价函数 $J(\\theta)$， $\\theta$的初始值为[[0,0]], 答案应该为23.07。"
   ]
  },
  {
   "cell_type": "code",
   "execution_count": 565,
   "metadata": {},
   "outputs": [
    {
     "data": {
      "text/plain": [
       "32.072733877455676"
      ]
     },
     "execution_count": 565,
     "metadata": {},
     "output_type": "execute_result"
    }
   ],
   "source": [
    "computeCost(X, y, theta)"
   ]
  },
  {
   "cell_type": "markdown",
   "metadata": {},
   "source": [
    "### 2.2.4 梯度下降\n",
    "\n",
    "记住$J(\\theta)$的变量是$tehta$, 而不是X和y。我们变化的值来使得 $J(\\theta)$变化，而不是变化X和y的值。\n",
    "\n",
    "一个检查梯度下降是不是在正常运作的方式，是打印每一步 $J(\\theta)$的值，看它是不是一直都在减小，并且最后收敛至一个稳定的值。\n",
    "$$\n",
    "    \\theta_j := \\theta_j - \\alpha \\frac{\\partial}{\\partial \\theta_j} J(\\theta)\n",
    "$$\n",
    "\n",
    "代入到公式中可以得到：\n",
    "New algorithm($n \\ge 1$):\n",
    "Reapt {\n",
    "$$\n",
    "        \\theta_j := \\theta_j - \\alpha \\frac{1}{m} \\sum_{i = 1} ^ m \\left( h_\\theta(x^{(i)}) - y^{(i)}  \\right)x_j^{(i)}\n",
    "$$\n",
    "\n",
    "}\n",
    "\n",
    "$$\n",
    "                                        x_j^i 表示的是X的第j列， i代表的是第n个样本\n",
    "                                        \n",
    "$$\n",
    "\n",
    "$$\n",
    "        \\theta_0 := \\theta_0 - \\alpha \\frac{1}{m} \\sum_{i = 1} ^ m \\left( h_\\theta(x^{(i)}) - y^{(i)}  \\right)x_0^{(i)}\n",
    "$$\n",
    "\n",
    "$$\n",
    "        \\theta_1 := \\theta_1 - \\alpha \\frac{1}{m} \\sum_{i = 1} ^ m \\left( h_\\theta(x^{(i)}) - y^{(i)}  \\right)x_1^{(i)}\n",
    "$$\n",
    "\n",
    "$$\n",
    "        \\theta_2 := \\theta_2 - \\alpha \\frac{1}{m} \\sum_{i = 1} ^ m \\left( h_\\theta(x^{(i)}) - y^{(i)}  \\right)x_2^{(i)}\n",
    "$$\n",
    "... 一直到j = n\n",
    "向量化过程：\n",
    "$$\n",
    "    X^T * \\left (X * \\theta - y\\right)= \n",
    "     \\left[\\begin{matrix}\n",
    "        x_0^{(1)} & x_0^{(2)} & ... &  x_0 ^ {(m)}                               \\\\\n",
    "         x_1^{(1)} & x_1^{(2)} & ... &  x_1 ^ {(m)}                                  \\\\\n",
    "          x_2^{(1)} & x_2^{(2)} & ... &  x_2 ^ {(m)}                                 \\\\\n",
    "           ... \\\\ \n",
    "            x_n^{(1)} & x_n^{(2)} & ... &  x_n ^ {(m)}                               \\\\\n",
    "     \\end{matrix}\\right]\n",
    "        * \n",
    "        \\left(\n",
    "     \\left[\\begin{matrix}\n",
    "        x_0^{(1)} & x_1^{(1)} & x_2^{(1)} &... & x_n^{(1)} \\\\ \n",
    "        x_0^{(2)} & x_1^{(2)} & x_2^{(2)} &... & x_n^{(2)}      \\\\\n",
    "              \\\\\n",
    "        x_0^{(m)} & x_1^{(m)} & x_2^{(m)} &... & x_n^{(m)} \\\\\n",
    "     \\end{matrix} \\right] * \n",
    "     \\left[\\begin{matrix}\n",
    "       \\theta_0              \\\\\n",
    "       \\theta_1                      \\\\\n",
    "        ...              \\\\\n",
    "       \\theta_n              \\\\\n",
    "      \\end{matrix} \\right] \n",
    "  \n",
    "      - \n",
    "      \\left[\\begin{matrix} \n",
    "        y^{(1)}        \\\\\n",
    "         y^{(2)}         \\\\\n",
    "       ...      \\\\\n",
    "          y^{(m)}        \\\\\n",
    "      \\end{matrix}\\right]  \n",
    "            \\right)\n",
    "      = \n",
    "         \\left[\\begin{matrix}\n",
    "        x_0^{(1)} & x_0^{(2)} & ... &  x_0 ^ {(m)}                               \\\\\n",
    "         x_1^{(1)} & x_1^{(2)} & ... &  x_1 ^ {(m)}                                  \\\\\n",
    "          x_2^{(1)} & x_2^{(2)} & ... &  x_2 ^ {(m)}                                 \\\\\n",
    "           ... \\\\ \n",
    "            x_n^{(1)} & x_n^{(2)} & ... &  x_n ^ {(m)}                               \\\\\n",
    "     \\end{matrix}\\right]\n",
    "        * \n",
    "      \\left[\\begin{matrix} \n",
    "        \\theta_0 + \\theta_1x_1^{(1)} + \\theta_2x_2^{(1)} + ... + \\theta_nx_n^{(1)} - y^{(1)} = \\theta^Tx^{(1)} - y^{(1)}  & \\\\\n",
    "        \\theta_0 + \\theta_1x_1^{(2)} + \\theta_2x_2^{(2)} + ... + \\theta_nx_n^{(2)} - y^{(2)}= \\theta^Tx^{(2)}  - y^{(2)} & \\\\\n",
    "        ... &  \\\\\n",
    "        \\theta_0 + \\theta_1x_1^{(m)} + \\theta_2x_2^{(m)} + ... + \\theta_nx_n^{(m)} - y^{(m)}= \\theta^Tx^{m)  - y^{(m)}\\\\\n",
    "        \n",
    "        \n",
    "        \n",
    "        }                              \\\\\n",
    "          \\end{matrix} \\right]\n",
    "$$\n",
    "\n",
    "$$\n",
    "  \\left[\\begin{matrix}\n",
    "        x_0^{(1)} & x_0^{(2)} & ... &  x_0 ^ {(m)}                               \\\\\n",
    "         x_1^{(1)} & x_1^{(2)} & ... &  x_1 ^ {(m)}                                  \\\\\n",
    "          x_2^{(1)} & x_2^{(2)} & ... &  x_2 ^ {(m)}                                 \\\\\n",
    "           ... \\\\ \n",
    "            x_n^{(1)} & x_n^{(2)} & ... &  x_n ^ {(m)}                               \\\\\n",
    "     \\end{matrix}\\right]\n",
    "        * \n",
    "      \\left[\\begin{matrix} \n",
    "        \\theta_0 + \\theta_1x_1^{(1)} + \\theta_2x_2^{(1)} + ... + \\theta_nx_n^{(1)} - y^{(1)} = \\theta^Tx^{(1)} - y^{(1)}  & \\\\\n",
    "        \\theta_0 + \\theta_1x_1^{(2)} + \\theta_2x_2^{(2)} + ... + \\theta_nx_n^{(2)} - y^{(2)}= \\theta^Tx^{(2)}  - y^{(2)} & \\\\\n",
    "        ... &  \\\\\n",
    "        \\theta_0 + \\theta_1x_1^{(m)} + \\theta_2x_2^{(m)} + ... + \\theta_nx_n^{(m)} - y^{(m)}= \\theta^Tx^{(m)}  - y^{(m)}\\\\\n",
    "                        \n",
    "          \\end{matrix} \\right]\n",
    "     = \n",
    "     \\left[\\begin{matrix} \n",
    "           \\sum_{i=1}^{m} \\left( x_0^{(i)} * (\\theta^T x^{(1)} - y^{(1)})  \\right)         \\\\\n",
    "           ...\\\\\n",
    "                      \\sum_{i=1}^{m} \\left( x_n^{(i)} * (\\theta^T x^{(m)} - y^{(m)})  \\right)         \\\\\n",
    "     \\end{matrix} \\right]\n",
    "$$\n",
    "\n",
    "我是先实现的下面的函数，然后再来一步一步写公式的，知道公式才知道为什么那样算是对的呀！\n"
   ]
  },
  {
   "cell_type": "code",
   "execution_count": 566,
   "metadata": {},
   "outputs": [
    {
     "name": "stdout",
     "output_type": "stream",
     "text": [
      "(97, 1)\n",
      "X: (97,)\n",
      "(97, 1)\n"
     ]
    }
   ],
   "source": [
    "X.shape, theta.shape, y.shape\n",
    "error = np.dot(X, theta) - y\n",
    "# print(error)\n",
    "print(error.shape)\n",
    "count = theta.shape[0] # theta的个数\n",
    "print(\"X:\",X[:, 0].shape)\n",
    "error = np.multiply(error, X[:, 1].reshape(-1,1))\n",
    "print(error.shape)\n"
   ]
  },
  {
   "cell_type": "code",
   "execution_count": 567,
   "metadata": {},
   "outputs": [],
   "source": [
    "def gradientDescent(X, y, theta, alpha, iters):\n",
    "    \"\"\" \n",
    "    该版本实现线性梯度下降算法， 计算 theta更新的时候采用迭代的方式\n",
    "    X: (m, n)\n",
    "    theta: (n, 1)\n",
    "    y: (m ,1)\n",
    "    alpha: 学习率\n",
    "    iters: 迭代次数\n",
    "    \"\"\"\n",
    "    tempTheta = np.zeros(theta.shape) # 用于存储计算的theta\n",
    "    count = theta.shape[0] # theta的个数\n",
    "    cost = np.zeros(iters) # Cost\n",
    "    for i in range(iters):\n",
    "        error = np.dot(X, theta) - y\n",
    "\n",
    "        for j in range(count):\n",
    "            error = np.multiply(error, X[:, j].reshape(-1, 1)) # 非常关键因为我们采用的是array，而X[:, j]得到的是一个向量，而非矩阵\n",
    "            tempTheta[j, 0] = theta[j, 0] - (alpha / len (X)) * np.sum(error)\n",
    "        \n",
    "        theta = tempTheta\n",
    "        cost[i] = computeCost(X, y, theta)\n",
    "\n",
    "    return theta, cost\n",
    "\n",
    "def gradientDescent2(X, y, theta, alpha, iters):\n",
    "    \"\"\" \n",
    "    该版本实现线性梯度下降算法， 计算theta更新的时候采用矩阵向量乘法的方式 X.T dot (X dot theta - y)\n",
    "    X: (m, n)\n",
    "    theta: (n, 1)\n",
    "    y: (m ,1)\n",
    "    alpha: 学习率\n",
    "    iters: 迭代次数\n",
    "    \"\"\"\n",
    "    m = len(X)\n",
    "    cost = np.zeros(iters)\n",
    "    for i in range(iters):\n",
    "        error = np.dot(X.T, (np.dot(X, theta) - y)) / m\n",
    "        theta = theta - alpha * error\n",
    "        cost[i] = computeCost(X, y, theta)\n",
    "    return theta, cost"
   ]
  },
  {
   "cell_type": "code",
   "execution_count": 568,
   "metadata": {},
   "outputs": [
    {
     "name": "stdout",
     "output_type": "stream",
     "text": [
      "function 1:  [[-3.63029144]\n",
      " [ 1.16636235]]\n",
      "function 2:  [[-3.63029144]\n",
      " [ 1.16636235]]\n"
     ]
    }
   ],
   "source": [
    "alpha = 0.01\n",
    "iters = 1500\n",
    "g, cost = gradientDescent(X, y, theta, alpha, iters)\n",
    "print(\"function 1: \", g)\n",
    "g, cost = gradientDescent2(X, y, theta, alpha, iters)\n",
    "print(\"function 2: \", g)"
   ]
  },
  {
   "cell_type": "code",
   "execution_count": 569,
   "metadata": {},
   "outputs": [
    {
     "name": "stdout",
     "output_type": "stream",
     "text": [
      "predict1: [0.45197679]\n",
      "predict2: [4.53424501]\n"
     ]
    }
   ],
   "source": [
    "# 预测35000和7000城市规模的小吃利润\n",
    "predict1 = np.dot(g.T, [1, 3.5])\n",
    "print(\"predict1:\", predict1)\n",
    "predict2 = np.dot(g.T , [1, 7]) \n",
    "print(\"predict2:\", predict2)"
   ]
  },
  {
   "cell_type": "code",
   "execution_count": 570,
   "metadata": {},
   "outputs": [
    {
     "data": {
      "image/png": "[encoded data removed]",
      "text/plain": [
       "<Figure size 864x576 with 1 Axes>"
      ]
     },
     "metadata": {
      "needs_background": "light"
     },
     "output_type": "display_data"
    }
   ],
   "source": [
    "# 原始数据及拟合直线\n",
    "x = np.linspace(data.Population.min(), data.Population.max(), 100)\n",
    "f = g[0, 0] + (g[1, 0] * x)\n",
    "fig, ax = plt.subplots(figsize=(12 ,8))\n",
    "ax.plot(x, f, 'r', label='Prediction')\n",
    "ax.scatter(data.Population, data.Profit, label='Traning Data')\n",
    "ax.legend(loc=2)\n",
    "ax.set_xlabel('Population')\n",
    "ax.set_ylabel('Profit')\n",
    "ax.set_title('Predicted Profit vs. Population Size')\n",
    "plt.show()"
   ]
  },
  {
   "cell_type": "code",
   "execution_count": 571,
   "metadata": {},
   "outputs": [
    {
     "data": {
      "image/png": "[encoded data removed]",
      "text/plain": [
       "<Figure size 864x576 with 1 Axes>"
      ]
     },
     "metadata": {
      "needs_background": "light"
     },
     "output_type": "display_data"
    }
   ],
   "source": [
    "fig, ax = plt.subplots(figsize=(12, 8))\n",
    "plt.plot(range(1500), cost, 'r')\n",
    "ax.set_xlabel(\"Iterations\")\n",
    "ax.set_ylabel(\"Cost\")\n",
    "ax.set_title(\"Error vs. Training epoch\")\n",
    "plt.show()"
   ]
  },
  {
   "cell_type": "markdown",
   "metadata": {},
   "source": [
    "# 3 多变量线性回归"
   ]
  },
  {
   "cell_type": "code",
   "execution_count": 572,
   "metadata": {},
   "outputs": [
    {
     "data": {
      "text/html": [
       "<div>\n",
       "<style scoped>\n",
       "    .dataframe tbody tr th:only-of-type {\n",
       "        vertical-align: middle;\n",
       "    }\n",
       "\n",
       "    .dataframe tbody tr th {\n",
       "        vertical-align: top;\n",
       "    }\n",
       "\n",
       "    .dataframe thead th {\n",
       "        text-align: right;\n",
       "    }\n",
       "</style>\n",
       "<table border=\"1\" class=\"dataframe\">\n",
       "  <thead>\n",
       "    <tr style=\"text-align: right;\">\n",
       "      <th></th>\n",
       "      <th>Size</th>\n",
       "      <th>Bedrooms</th>\n",
       "      <th>Price</th>\n",
       "    </tr>\n",
       "  </thead>\n",
       "  <tbody>\n",
       "    <tr>\n",
       "      <th>0</th>\n",
       "      <td>2104</td>\n",
       "      <td>3</td>\n",
       "      <td>399900</td>\n",
       "    </tr>\n",
       "    <tr>\n",
       "      <th>1</th>\n",
       "      <td>1600</td>\n",
       "      <td>3</td>\n",
       "      <td>329900</td>\n",
       "    </tr>\n",
       "    <tr>\n",
       "      <th>2</th>\n",
       "      <td>2400</td>\n",
       "      <td>3</td>\n",
       "      <td>369000</td>\n",
       "    </tr>\n",
       "    <tr>\n",
       "      <th>3</th>\n",
       "      <td>1416</td>\n",
       "      <td>2</td>\n",
       "      <td>232000</td>\n",
       "    </tr>\n",
       "    <tr>\n",
       "      <th>4</th>\n",
       "      <td>3000</td>\n",
       "      <td>4</td>\n",
       "      <td>539900</td>\n",
       "    </tr>\n",
       "  </tbody>\n",
       "</table>\n",
       "</div>"
      ],
      "text/plain": [
       "   Size  Bedrooms   Price\n",
       "0  2104         3  399900\n",
       "1  1600         3  329900\n",
       "2  2400         3  369000\n",
       "3  1416         2  232000\n",
       "4  3000         4  539900"
      ]
     },
     "execution_count": 572,
     "metadata": {},
     "output_type": "execute_result"
    }
   ],
   "source": [
    "data2 = pd.read_csv(\"../吴恩达-机器学习/Andrew-NG-Meachine-Learning/machine-learning-ex1/ex1/ex1data2.txt\", header=None, names=['Size', 'Bedrooms', 'Price'])\n",
    "data2.head()"
   ]
  },
  {
   "cell_type": "markdown",
   "metadata": {},
   "source": [
    "## 3.1 标准化数据\n",
    "最简单的方法是使用标准化，\n",
    "$$ x - mean / std$$"
   ]
  },
  {
   "cell_type": "code",
   "execution_count": 573,
   "metadata": {},
   "outputs": [],
   "source": [
    "def normalize_feature(df):\n",
    "    return df.apply(lambda column: (column - column.mean()) / column.std())"
   ]
  },
  {
   "cell_type": "code",
   "execution_count": 574,
   "metadata": {},
   "outputs": [
    {
     "data": {
      "text/html": [
       "<div>\n",
       "<style scoped>\n",
       "    .dataframe tbody tr th:only-of-type {\n",
       "        vertical-align: middle;\n",
       "    }\n",
       "\n",
       "    .dataframe tbody tr th {\n",
       "        vertical-align: top;\n",
       "    }\n",
       "\n",
       "    .dataframe thead th {\n",
       "        text-align: right;\n",
       "    }\n",
       "</style>\n",
       "<table border=\"1\" class=\"dataframe\">\n",
       "  <thead>\n",
       "    <tr style=\"text-align: right;\">\n",
       "      <th></th>\n",
       "      <th>Size</th>\n",
       "      <th>Bedrooms</th>\n",
       "      <th>Price</th>\n",
       "    </tr>\n",
       "  </thead>\n",
       "  <tbody>\n",
       "    <tr>\n",
       "      <th>0</th>\n",
       "      <td>0.130010</td>\n",
       "      <td>-0.223675</td>\n",
       "      <td>0.475747</td>\n",
       "    </tr>\n",
       "    <tr>\n",
       "      <th>1</th>\n",
       "      <td>-0.504190</td>\n",
       "      <td>-0.223675</td>\n",
       "      <td>-0.084074</td>\n",
       "    </tr>\n",
       "    <tr>\n",
       "      <th>2</th>\n",
       "      <td>0.502476</td>\n",
       "      <td>-0.223675</td>\n",
       "      <td>0.228626</td>\n",
       "    </tr>\n",
       "    <tr>\n",
       "      <th>3</th>\n",
       "      <td>-0.735723</td>\n",
       "      <td>-1.537767</td>\n",
       "      <td>-0.867025</td>\n",
       "    </tr>\n",
       "    <tr>\n",
       "      <th>4</th>\n",
       "      <td>1.257476</td>\n",
       "      <td>1.090417</td>\n",
       "      <td>1.595389</td>\n",
       "    </tr>\n",
       "  </tbody>\n",
       "</table>\n",
       "</div>"
      ],
      "text/plain": [
       "       Size  Bedrooms     Price\n",
       "0  0.130010 -0.223675  0.475747\n",
       "1 -0.504190 -0.223675 -0.084074\n",
       "2  0.502476 -0.223675  0.228626\n",
       "3 -0.735723 -1.537767 -0.867025\n",
       "4  1.257476  1.090417  1.595389"
      ]
     },
     "execution_count": 574,
     "metadata": {},
     "output_type": "execute_result"
    }
   ],
   "source": [
    "data2 = normalize_feature(data2)\n",
    "data2.head()"
   ]
  },
  {
   "cell_type": "markdown",
   "metadata": {},
   "source": [
    "## 3.2 得到数据\n"
   ]
  },
  {
   "cell_type": "code",
   "execution_count": 575,
   "metadata": {},
   "outputs": [
    {
     "data": {
      "text/plain": [
       "(   Ones      Size  Bedrooms     Price\n",
       " 0     1  0.130010 -0.223675  0.475747\n",
       " 1     1 -0.504190 -0.223675 -0.084074\n",
       " 2     1  0.502476 -0.223675  0.228626\n",
       " 3     1 -0.735723 -1.537767 -0.867025\n",
       " 4     1  1.257476  1.090417  1.595389,\n",
       " (47, 4))"
      ]
     },
     "execution_count": 575,
     "metadata": {},
     "output_type": "execute_result"
    }
   ],
   "source": [
    "data2.insert(0, 'Ones', 1)\n",
    "data2.head(), data2.shape"
   ]
  },
  {
   "cell_type": "code",
   "execution_count": 576,
   "metadata": {},
   "outputs": [
    {
     "name": "stdout",
     "output_type": "stream",
     "text": [
      "   Ones      Size  Bedrooms\n",
      "0     1  0.130010 -0.223675\n",
      "1     1 -0.504190 -0.223675\n",
      "2     1  0.502476 -0.223675\n",
      "3     1 -0.735723 -1.537767\n",
      "4     1  1.257476  1.090417\n",
      "      Price\n",
      "0  0.475747\n",
      "1 -0.084074\n",
      "2  0.228626\n",
      "3 -0.867025\n",
      "4  1.595389\n"
     ]
    },
    {
     "data": {
      "text/plain": [
       "((47, 3), (3, 1), (47, 1))"
      ]
     },
     "execution_count": 576,
     "metadata": {},
     "output_type": "execute_result"
    }
   ],
   "source": [
    "num = data2.shape[1]\n",
    "x = data2.iloc[:, 0:3]\n",
    "y = data2.iloc[:, num - 1: num]\n",
    "print(x.head()), print(y.head())\n",
    "X2 = np.array(x)\n",
    "y2 = np.array(y)\n",
    "theta2 = np.zeros(3).reshape(3, 1)\n",
    "x.shape, theta2.shape, y.shape"
   ]
  },
  {
   "cell_type": "markdown",
   "metadata": {},
   "source": [
    "## 3.3 运行梯度下降算法"
   ]
  },
  {
   "cell_type": "code",
   "execution_count": 577,
   "metadata": {},
   "outputs": [
    {
     "data": {
      "text/plain": [
       "(array([[-9.37429803e-17],\n",
       "        [ 8.84042349e-01],\n",
       "        [-5.24551809e-02]]),\n",
       " (3, 1),\n",
       " (1500,))"
      ]
     },
     "execution_count": 577,
     "metadata": {},
     "output_type": "execute_result"
    }
   ],
   "source": [
    "g, cost = gradientDescent2(X2, y2, theta2, alpha, 1500)\n",
    "\n",
    "g, g.shape , cost.shape"
   ]
  },
  {
   "cell_type": "code",
   "execution_count": 578,
   "metadata": {},
   "outputs": [
    {
     "data": {
      "image/png": "[encoded data removed]",
      "text/plain": [
       "<Figure size 864x576 with 1 Axes>"
      ]
     },
     "metadata": {
      "needs_background": "light"
     },
     "output_type": "display_data"
    }
   ],
   "source": [
    "fig, ax = plt.subplots(figsize=(12, 8))\n",
    "plt.plot(range(1500), cost, 'r')\n",
    "ax.set_xlabel(\"Iterations\")\n",
    "ax.set_ylabel(\"Cost\")\n",
    "ax.set_title(\"Error vs. Training epoch\")\n",
    "plt.show()"
   ]
  },
  {
   "cell_type": "markdown",
   "metadata": {},
   "source": [
    "## 3.4 不同学习率"
   ]
  },
  {
   "cell_type": "code",
   "execution_count": 579,
   "metadata": {},
   "outputs": [
    {
     "name": "stderr",
     "output_type": "stream",
     "text": [
      "/var/folders/dq/_x9436w56md7jn43_4mzmhcr0000gn/T/ipykernel_45819/2776116780.py:14: UserWarning: color is redundantly defined by the 'color' keyword argument and the fmt string \"r\" (-> color=(1.0, 0.0, 0.0, 1)). The keyword argument will take precedence.\n",
      "  ax.plot(range(iters), cost_data, 'r', label=alpha, color=colors[i])\n",
      "/var/folders/dq/_x9436w56md7jn43_4mzmhcr0000gn/T/ipykernel_45819/2776116780.py:14: UserWarning: color is redundantly defined by the 'color' keyword argument and the fmt string \"r\" (-> color=(1.0, 0.0, 0.0, 1)). The keyword argument will take precedence.\n",
      "  ax.plot(range(iters), cost_data, 'r', label=alpha, color=colors[i])\n",
      "/var/folders/dq/_x9436w56md7jn43_4mzmhcr0000gn/T/ipykernel_45819/2776116780.py:14: UserWarning: color is redundantly defined by the 'color' keyword argument and the fmt string \"r\" (-> color=(1.0, 0.0, 0.0, 1)). The keyword argument will take precedence.\n",
      "  ax.plot(range(iters), cost_data, 'r', label=alpha, color=colors[i])\n",
      "/var/folders/dq/_x9436w56md7jn43_4mzmhcr0000gn/T/ipykernel_45819/2776116780.py:14: UserWarning: color is redundantly defined by the 'color' keyword argument and the fmt string \"r\" (-> color=(1.0, 0.0, 0.0, 1)). The keyword argument will take precedence.\n",
      "  ax.plot(range(iters), cost_data, 'r', label=alpha, color=colors[i])\n"
     ]
    },
    {
     "data": {
      "image/png": "[encoded data removed]",
      "text/plain": [
       "<Figure size 1152x648 with 1 Axes>"
      ]
     },
     "metadata": {
      "needs_background": "light"
     },
     "output_type": "display_data"
    }
   ],
   "source": [
    "iters = 50\n",
    "base = np.logspace(-1, -5, num =4)\n",
    "base2 = [0.003, 0.03, 0.3,1 ]\n",
    "colors = ['red', 'blue', 'yellow', 'orange']\n",
    "# candidate = np.sort(np.concatenate((base2, base2 * 3)))\n",
    "candidate = np.sort(base2)\n",
    "base, candidate\n",
    "\n",
    "fig, ax = plt.subplots(figsize=(16, 9))\n",
    "\n",
    "i = 0\n",
    "for alpha in candidate:\n",
    "    _, cost_data = gradientDescent2(X2, y2, theta2, alpha, iters)\n",
    "    ax.plot(range(iters), cost_data, 'r', label=alpha, color=colors[i])\n",
    "    i = i + 1\n",
    "\n",
    "ax.set_xlabel(\"iters\", fontsize=18)\n",
    "ax.set_ylabel(\"cost\", fontsize=18)\n",
    "ax.legend(bbox_to_anchor=(1.05,1), loc = 2, borderaxespad=0.)\n",
    "plt.show()\n"
   ]
  },
  {
   "cell_type": "markdown",
   "metadata": {},
   "source": [
    "## 3.5 正规方程"
   ]
  },
  {
   "cell_type": "markdown",
   "metadata": {},
   "source": [
    "正规方程： 正规方程是通过求解下面的房产来使得代价函数最小的参数等。\n",
    "$$\n",
    "    \\frac{\\partial}{\\partial\\theta_j}J(\\theta_j) = 0\n",
    "$$\n",
    "假设我们的训练集特征矩阵为X，并且我们的训练集结果为向量y，则利用正规方程解出向量$\\theta$\n",
    "$$\n",
    "    \\theta = \\left(X^TX\\right)^{(-1)}X^Ty\n",
    "$$\n",
    "正规方程：不需要选择学习率α，一次计算得出, 当特征数量n较大时则运算代价大，当n小于10000时还是可以接受的，只适用于线性模型。"
   ]
  },
  {
   "cell_type": "code",
   "execution_count": 580,
   "metadata": {},
   "outputs": [
    {
     "name": "stdout",
     "output_type": "stream",
     "text": [
      "[[ 0.05662112 -0.00567561]\n",
      " [-0.00567561  0.00069556]]\n"
     ]
    }
   ],
   "source": [
    "A = np.dot(X.T, X)\n",
    "B=inv(A)\n",
    "print(B)"
   ]
  },
  {
   "cell_type": "code",
   "execution_count": 581,
   "metadata": {},
   "outputs": [],
   "source": [
    "def normalEquation(X, y): \n",
    "    \"\"\"\n",
    "    \n",
    "    \"\"\"\n",
    "    A = np.dot(X.T, X)\n",
    "    theta = np.dot(np.dot(inv(A), X.T), y)\n",
    "    return theta"
   ]
  },
  {
   "cell_type": "code",
   "execution_count": 585,
   "metadata": {},
   "outputs": [
    {
     "data": {
      "text/plain": [
       "array([[-8.67361738e-17],\n",
       "       [ 8.84765988e-01],\n",
       "       [-5.31788197e-02]])"
      ]
     },
     "execution_count": 585,
     "metadata": {},
     "output_type": "execute_result"
    }
   ],
   "source": [
    "theta3 = normalEquation(X2, y2)\n",
    "\n",
    "theta3"
   ]
  },
  {
   "cell_type": "markdown",
   "metadata": {},
   "source": [
    "# 4. Pytorch "
   ]
  },
  {
   "cell_type": "code",
   "execution_count": 596,
   "metadata": {},
   "outputs": [
    {
     "name": "stdout",
     "output_type": "stream",
     "text": [
      "torch.Size([47, 3]) torch.Size([47, 1])\n"
     ]
    },
    {
     "data": {
      "text/plain": [
       "(tensor([[ 1.0000e+00,  1.3001e-01, -2.2368e-01],\n",
       "         [ 1.0000e+00, -5.0419e-01, -2.2368e-01],\n",
       "         [ 1.0000e+00,  5.0248e-01, -2.2368e-01],\n",
       "         [ 1.0000e+00, -7.3572e-01, -1.5378e+00],\n",
       "         [ 1.0000e+00,  1.2575e+00,  1.0904e+00],\n",
       "         [ 1.0000e+00, -1.9732e-02,  1.0904e+00],\n",
       "         [ 1.0000e+00, -5.8724e-01, -2.2368e-01],\n",
       "         [ 1.0000e+00, -7.2188e-01, -2.2368e-01],\n",
       "         [ 1.0000e+00, -7.8102e-01, -2.2368e-01],\n",
       "         [ 1.0000e+00, -6.3757e-01, -2.2368e-01],\n",
       "         [ 1.0000e+00, -7.6357e-02,  1.0904e+00],\n",
       "         [ 1.0000e+00, -8.5674e-04, -2.2368e-01],\n",
       "         [ 1.0000e+00, -1.3927e-01, -2.2368e-01],\n",
       "         [ 1.0000e+00,  3.1173e+00,  2.4045e+00],\n",
       "         [ 1.0000e+00, -9.2196e-01, -2.2368e-01],\n",
       "         [ 1.0000e+00,  3.7664e-01,  1.0904e+00],\n",
       "         [ 1.0000e+00, -8.5652e-01, -1.5378e+00],\n",
       "         [ 1.0000e+00, -9.6222e-01, -2.2368e-01],\n",
       "         [ 1.0000e+00,  7.6547e-01,  1.0904e+00],\n",
       "         [ 1.0000e+00,  1.2965e+00,  1.0904e+00],\n",
       "         [ 1.0000e+00, -2.9405e-01, -2.2368e-01],\n",
       "         [ 1.0000e+00, -1.4179e-01, -1.5378e+00],\n",
       "         [ 1.0000e+00, -4.9916e-01, -2.2368e-01],\n",
       "         [ 1.0000e+00, -4.8673e-02,  1.0904e+00],\n",
       "         [ 1.0000e+00,  2.3774e+00, -2.2368e-01],\n",
       "         [ 1.0000e+00, -1.1334e+00, -2.2368e-01],\n",
       "         [ 1.0000e+00, -6.8287e-01, -2.2368e-01],\n",
       "         [ 1.0000e+00,  6.6103e-01, -2.2368e-01],\n",
       "         [ 1.0000e+00,  2.5081e-01, -2.2368e-01],\n",
       "         [ 1.0000e+00,  8.0070e-01, -2.2368e-01],\n",
       "         [ 1.0000e+00, -2.0345e-01, -1.5378e+00],\n",
       "         [ 1.0000e+00, -1.2592e+00, -2.8519e+00],\n",
       "         [ 1.0000e+00,  4.9477e-02,  1.0904e+00],\n",
       "         [ 1.0000e+00,  1.4299e+00, -2.2368e-01],\n",
       "         [ 1.0000e+00, -2.3868e-01,  1.0904e+00],\n",
       "         [ 1.0000e+00, -7.0930e-01, -2.2368e-01],\n",
       "         [ 1.0000e+00, -9.5845e-01, -2.2368e-01],\n",
       "         [ 1.0000e+00,  1.6524e-01,  1.0904e+00],\n",
       "         [ 1.0000e+00,  2.7864e+00,  1.0904e+00],\n",
       "         [ 1.0000e+00,  2.0299e-01,  1.0904e+00],\n",
       "         [ 1.0000e+00, -4.2366e-01, -1.5378e+00],\n",
       "         [ 1.0000e+00,  2.9863e-01, -2.2368e-01],\n",
       "         [ 1.0000e+00,  7.1262e-01,  1.0904e+00],\n",
       "         [ 1.0000e+00, -1.0075e+00, -2.2368e-01],\n",
       "         [ 1.0000e+00, -1.4454e+00, -1.5378e+00],\n",
       "         [ 1.0000e+00, -1.8709e-01,  1.0904e+00],\n",
       "         [ 1.0000e+00, -1.0037e+00, -2.2368e-01]]),\n",
       " tensor([[ 0.4757],\n",
       "         [-0.0841],\n",
       "         [ 0.2286],\n",
       "         [-0.8670],\n",
       "         [ 1.5954],\n",
       "         [-0.3240],\n",
       "         [-0.2040],\n",
       "         [-1.1309],\n",
       "         [-1.0270],\n",
       "         [-0.7831],\n",
       "         [-0.8031],\n",
       "         [ 0.0527],\n",
       "         [-0.0833],\n",
       "         [ 2.8750],\n",
       "         [-0.6439],\n",
       "         [ 0.8756],\n",
       "         [-0.3240],\n",
       "         [-1.1237],\n",
       "         [ 1.2763],\n",
       "         [ 2.0680],\n",
       "         [-0.6999],\n",
       "         [-0.6831],\n",
       "         [-0.7799],\n",
       "         [-0.6439],\n",
       "         [ 1.8673],\n",
       "         [-0.7239],\n",
       "         [ 0.9924],\n",
       "         [ 1.0284],\n",
       "         [ 1.0764],\n",
       "         [-0.3240],\n",
       "         [ 0.0759],\n",
       "         [-1.3637],\n",
       "         [-0.2040],\n",
       "         [ 1.9153],\n",
       "         [-0.4360],\n",
       "         [-0.7239],\n",
       "         [-0.8838],\n",
       "         [ 0.0367],\n",
       "         [ 1.6682],\n",
       "         [-0.4272],\n",
       "         [ 0.2246],\n",
       "         [-0.0841],\n",
       "         [-0.2112],\n",
       "         [-0.3312],\n",
       "         [-1.2837],\n",
       "         [-0.3240],\n",
       "         [-0.8070]]))"
      ]
     },
     "execution_count": 596,
     "metadata": {},
     "output_type": "execute_result"
    }
   ],
   "source": [
    "import torch\n",
    "print(X2.shape, y2.shape)\n",
    "X2 = torch.Tensor(X2)\n",
    "y2 = torch.Tensor(y2)\n",
    "X2, y2"
   ]
  },
  {
   "cell_type": "code",
   "execution_count": 605,
   "metadata": {},
   "outputs": [
    {
     "name": "stdout",
     "output_type": "stream",
     "text": [
      "0 tensor(64.5479, grad_fn=<MseLossBackward0>)\n",
      "1 tensor(35.8901, grad_fn=<MseLossBackward0>)\n",
      "2 tensor(27.1046, grad_fn=<MseLossBackward0>)\n",
      "3 tensor(23.0117, grad_fn=<MseLossBackward0>)\n",
      "4 tensor(20.4164, grad_fn=<MseLossBackward0>)\n",
      "5 tensor(18.5368, grad_fn=<MseLossBackward0>)\n",
      "6 tensor(17.1136, grad_fn=<MseLossBackward0>)\n",
      "7 tensor(16.0203, grad_fn=<MseLossBackward0>)\n",
      "8 tensor(15.1762, grad_fn=<MseLossBackward0>)\n",
      "9 tensor(14.5234, grad_fn=<MseLossBackward0>)\n",
      "10 tensor(14.0182, grad_fn=<MseLossBackward0>)\n",
      "11 tensor(13.6270, grad_fn=<MseLossBackward0>)\n",
      "12 tensor(13.3241, grad_fn=<MseLossBackward0>)\n",
      "13 tensor(13.0896, grad_fn=<MseLossBackward0>)\n",
      "14 tensor(12.9080, grad_fn=<MseLossBackward0>)\n",
      "15 tensor(12.7673, grad_fn=<MseLossBackward0>)\n",
      "16 tensor(12.6584, grad_fn=<MseLossBackward0>)\n",
      "17 tensor(12.5741, grad_fn=<MseLossBackward0>)\n",
      "18 tensor(12.5087, grad_fn=<MseLossBackward0>)\n",
      "19 tensor(12.4582, grad_fn=<MseLossBackward0>)\n",
      "20 tensor(12.4190, grad_fn=<MseLossBackward0>)\n",
      "21 tensor(12.3887, grad_fn=<MseLossBackward0>)\n",
      "22 tensor(12.3652, grad_fn=<MseLossBackward0>)\n",
      "23 tensor(12.3470, grad_fn=<MseLossBackward0>)\n",
      "24 tensor(12.3329, grad_fn=<MseLossBackward0>)\n",
      "25 tensor(12.3220, grad_fn=<MseLossBackward0>)\n",
      "26 tensor(12.3135, grad_fn=<MseLossBackward0>)\n",
      "27 tensor(12.3070, grad_fn=<MseLossBackward0>)\n",
      "28 tensor(12.3019, grad_fn=<MseLossBackward0>)\n",
      "29 tensor(12.2980, grad_fn=<MseLossBackward0>)\n",
      "30 tensor(12.2950, grad_fn=<MseLossBackward0>)\n",
      "31 tensor(12.2926, grad_fn=<MseLossBackward0>)\n",
      "32 tensor(12.2908, grad_fn=<MseLossBackward0>)\n",
      "33 tensor(12.2894, grad_fn=<MseLossBackward0>)\n",
      "34 tensor(12.2883, grad_fn=<MseLossBackward0>)\n",
      "35 tensor(12.2874, grad_fn=<MseLossBackward0>)\n",
      "36 tensor(12.2868, grad_fn=<MseLossBackward0>)\n",
      "37 tensor(12.2863, grad_fn=<MseLossBackward0>)\n",
      "38 tensor(12.2859, grad_fn=<MseLossBackward0>)\n",
      "39 tensor(12.2856, grad_fn=<MseLossBackward0>)\n",
      "40 tensor(12.2853, grad_fn=<MseLossBackward0>)\n",
      "41 tensor(12.2852, grad_fn=<MseLossBackward0>)\n",
      "42 tensor(12.2850, grad_fn=<MseLossBackward0>)\n",
      "43 tensor(12.2849, grad_fn=<MseLossBackward0>)\n",
      "44 tensor(12.2848, grad_fn=<MseLossBackward0>)\n",
      "45 tensor(12.2848, grad_fn=<MseLossBackward0>)\n",
      "46 tensor(12.2847, grad_fn=<MseLossBackward0>)\n",
      "47 tensor(12.2847, grad_fn=<MseLossBackward0>)\n",
      "48 tensor(12.2846, grad_fn=<MseLossBackward0>)\n",
      "49 tensor(12.2846, grad_fn=<MseLossBackward0>)\n"
     ]
    },
    {
     "name": "stderr",
     "output_type": "stream",
     "text": [
      "/usr/local/anaconda3/envs/dataScience/lib/python3.8/site-packages/torch/nn/_reduction.py:42: UserWarning: size_average and reduce args will be deprecated, please use reduction='sum' instead.\n",
      "  warnings.warn(warning.format(ret))\n"
     ]
    }
   ],
   "source": [
    "class Model(torch.nn.Module):\n",
    "    def __init__(self) -> None:\n",
    "        super(Model, self).__init__()\n",
    "        self.linear = torch.nn.Linear(3, 1)\n",
    "    def forward(self, x):\n",
    "        y_pred = self.linear(x)\n",
    "        return y_pred\n",
    "\n",
    "model = Model()\n",
    "# criterion 标准yd \n",
    "criterion = torch.nn.MSELoss(size_average=False) # loss function\n",
    "# optimizer 优化器    lr 学习率\n",
    "optimizer = torch.optim.SGD(model.parameters(), lr=0.01) # optimizer\n",
    "for epoch in range(50):\n",
    "    y_pred = model(X2)\n",
    "    # compute loss\n",
    "    loss = criterion(y_pred, y2)\n",
    "    print(epoch, loss)\n",
    "    # gradient descent\n",
    "    optimizer.zero_grad()\n",
    "    # backward\n",
    "    loss.backward()\n",
    "    # 更新 weights\n",
    "    optimizer.step()"
   ]
  },
  {
   "cell_type": "code",
   "execution_count": null,
   "metadata": {},
   "outputs": [],
   "source": []
  }
 ],
 "metadata": {
  "interpreter": {
   "hash": "f0325dcf7207d8e9f8704ca63d29063c7dfcc20229ad33a86848e8e12981fbdf"
  },
  "kernelspec": {
   "display_name": "Python 3.8.12 64-bit ('dataScience': conda)",
   "name": "python3"
  },
  "language_info": {
   "codemirror_mode": {
    "name": "ipython",
    "version": 3
   },
   "file_extension": ".py",
   "mimetype": "text/x-python",
   "name": "python",
   "nbconvert_exporter": "python",
   "pygments_lexer": "ipython3",
   "version": "3.8.12"
  },
  "orig_nbformat": 4
 },
 "nbformat": 4,
 "nbformat_minor": 2
}
